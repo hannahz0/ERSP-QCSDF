{
 "cells": [
  {
   "cell_type": "markdown",
   "metadata": {},
   "source": [
    "Imports"
   ]
  },
  {
   "cell_type": "code",
   "execution_count": 27,
   "metadata": {},
   "outputs": [],
   "source": [
    "import pandas as pd\n",
    "import numpy as np\n",
    "import os"
   ]
  },
  {
   "cell_type": "code",
   "execution_count": 28,
   "metadata": {},
   "outputs": [
    {
     "name": "stdout",
     "output_type": "stream",
     "text": [
      "        Query Id                                           Query\n",
      "0         121352                                  define extreme\n",
      "1         634306        what does chattel mean on credit history\n",
      "2         920825         what was the great leap forward brainly\n",
      "3         510633             tattoo fixers how much does it cost\n",
      "4         737889               what is decentralization process.\n",
      "...          ...                                             ...\n",
      "808726    633855          what does canada post regulations mean\n",
      "808727   1059728                         wholesale lularoe price\n",
      "808728    210839                   how can i watch the day after\n",
      "808729    908165           what to use instead of pgp in windows\n",
      "808730     50393  benefits of boiling lemons and drinking juice.\n",
      "\n",
      "[808731 rows x 2 columns]\n"
     ]
    }
   ],
   "source": [
    "data_dir = \"/Users/hannahzhang/Desktop/Github Repos/ERSP-TeamYang/data/queries/queries.train.tsv\"\n",
    "\n",
    "df = pd.read_csv(data_dir, sep=\"\\t\", names=['Query Id', 'Query'])\n",
    "\n",
    "print(df)\n"
   ]
  },
  {
   "cell_type": "code",
   "execution_count": 29,
   "metadata": {},
   "outputs": [
    {
     "name": "stdout",
     "output_type": "stream",
     "text": [
      "<bound method NDFrame.head of         Query Id                                           Query  \\\n",
      "0         121352                                  define extreme   \n",
      "1         634306        what does chattel mean on credit history   \n",
      "2         920825         what was the great leap forward brainly   \n",
      "3         510633             tattoo fixers how much does it cost   \n",
      "4         737889               what is decentralization process.   \n",
      "...          ...                                             ...   \n",
      "808726    633855          what does canada post regulations mean   \n",
      "808727   1059728                         wholesale lularoe price   \n",
      "808728    210839                   how can i watch the day after   \n",
      "808729    908165           what to use instead of pgp in windows   \n",
      "808730     50393  benefits of boiling lemons and drinking juice.   \n",
      "\n",
      "        Character Count  Word Count  \n",
      "0                    14           2  \n",
      "1                    40           7  \n",
      "2                    39           7  \n",
      "3                    35           7  \n",
      "4                    33           4  \n",
      "...                 ...         ...  \n",
      "808726               38           6  \n",
      "808727               23           3  \n",
      "808728               29           7  \n",
      "808729               37           8  \n",
      "808730               46           7  \n",
      "\n",
      "[808731 rows x 4 columns]>\n"
     ]
    }
   ],
   "source": [
    "queries = df['Query']\n",
    "# print(queries)\n",
    "\n",
    "character_count = []\n",
    "word_count = []\n",
    "\n",
    "for query in queries:\n",
    "    character_count.append(len(query))\n",
    "    word_list = query.split(\" \")\n",
    "    word_count.append(len(word_list))\n",
    "\n",
    "# print(\"word count\", character_count)\n",
    "\n",
    "df['Character Count'] = character_count\n",
    "df['Word Count'] = word_count\n",
    "\n",
    "print(df.head)"
   ]
  },
  {
   "cell_type": "code",
   "execution_count": 30,
   "metadata": {},
   "outputs": [
    {
     "data": {
      "text/plain": [
       "<bound method NDFrame.head of         Query Id                                              Query  \\\n",
       "1         634306           what does chattel mean on credit history   \n",
       "2         920825            what was the great leap forward brainly   \n",
       "3         510633                tattoo fixers how much does it cost   \n",
       "4         737889                  what is decentralization process.   \n",
       "5         278900  how many cars enter the la jolla concours d' e...   \n",
       "...          ...                                                ...   \n",
       "808721    215397  how did the physical environment influence the...   \n",
       "808723    945443  when do you start going to the doctor every ot...   \n",
       "808726    633855             what does canada post regulations mean   \n",
       "808728    210839                      how can i watch the day after   \n",
       "808729    908165              what to use instead of pgp in windows   \n",
       "\n",
       "        Character Count  Word Count  \n",
       "1                    40           7  \n",
       "2                    39           7  \n",
       "3                    35           7  \n",
       "4                    33           4  \n",
       "5                    54          10  \n",
       "...                 ...         ...  \n",
       "808721               65          10  \n",
       "808723               71          13  \n",
       "808726               38           6  \n",
       "808728               29           7  \n",
       "808729               37           8  \n",
       "\n",
       "[508296 rows x 4 columns]>"
      ]
     },
     "execution_count": 30,
     "metadata": {},
     "output_type": "execute_result"
    }
   ],
   "source": [
    "keywords = [\"where\", \"what\", \"why\", \"how\", \"when\"]\n",
    "\n",
    "filtered_df = df[df['Query'].str.contains('|'.join(keywords), case=False, na=False)]\n",
    "filtered_df.head"
   ]
  },
  {
   "cell_type": "code",
   "execution_count": 33,
   "metadata": {},
   "outputs": [
    {
     "name": "stdout",
     "output_type": "stream",
     "text": [
      "        Query Id                                              Query  \\\n",
      "1         634306           what does chattel mean on credit history   \n",
      "2         920825            what was the great leap forward brainly   \n",
      "3         510633                tattoo fixers how much does it cost   \n",
      "4         737889                  what is decentralization process.   \n",
      "5         278900  how many cars enter the la jolla concours d' e...   \n",
      "...          ...                                                ...   \n",
      "808721    215397  how did the physical environment influence the...   \n",
      "808723    945443  when do you start going to the doctor every ot...   \n",
      "808726    633855             what does canada post regulations mean   \n",
      "808728    210839                      how can i watch the day after   \n",
      "808729    908165              what to use instead of pgp in windows   \n",
      "\n",
      "        Character Count  Word Count  where  what  why  how  when  \n",
      "1                    40           7      0     1    0    0     0  \n",
      "2                    39           7      0     1    0    0     0  \n",
      "3                    35           7      0     0    0    1     0  \n",
      "4                    33           4      0     1    0    0     0  \n",
      "5                    54          10      0     0    0    1     0  \n",
      "...                 ...         ...    ...   ...  ...  ...   ...  \n",
      "808721               65          10      0     0    0    1     0  \n",
      "808723               71          13      0     0    0    0     1  \n",
      "808726               38           6      0     1    0    0     0  \n",
      "808728               29           7      0     0    0    1     0  \n",
      "808729               37           8      0     1    0    0     0  \n",
      "\n",
      "[508296 rows x 9 columns]\n"
     ]
    }
   ],
   "source": [
    "for keyword in keywords:\n",
    "    filtered_df.loc[:, keyword] = filtered_df['Query'].str.contains(keyword, case=False, na=False).astype(int)\n",
    "\n",
    "print(filtered_df)"
   ]
  }
 ],
 "metadata": {
  "kernelspec": {
   "display_name": "3.10.13",
   "language": "python",
   "name": "python3"
  },
  "language_info": {
   "codemirror_mode": {
    "name": "ipython",
    "version": 3
   },
   "file_extension": ".py",
   "mimetype": "text/x-python",
   "name": "python",
   "nbconvert_exporter": "python",
   "pygments_lexer": "ipython3",
   "version": "3.10.13"
  }
 },
 "nbformat": 4,
 "nbformat_minor": 2
}
