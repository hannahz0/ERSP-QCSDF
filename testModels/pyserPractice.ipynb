{
 "cells": [
  {
   "cell_type": "code",
   "execution_count": 1,
   "metadata": {},
   "outputs": [
    {
     "name": "stdout",
     "output_type": "stream",
     "text": [
      "Hello, world!\n"
     ]
    }
   ],
   "source": [
    "print(\"Hello, world!\")\n",
    "# test!"
   ]
  },
  {
   "cell_type": "code",
   "execution_count": 2,
   "metadata": {},
   "outputs": [
    {
     "name": "stdout",
     "output_type": "stream",
     "text": [
      "Requirement already satisfied: pyserini in ./jlab_venv/lib/python3.10/site-packages (0.43.0)\n",
      "Requirement already satisfied: transformers>=4.6.0 in ./jlab_venv/lib/python3.10/site-packages (from pyserini) (4.48.0)\n",
      "Requirement already satisfied: onnxruntime>=1.8.1 in ./jlab_venv/lib/python3.10/site-packages (from pyserini) (1.20.1)\n",
      "Requirement already satisfied: sentencepiece>=0.2 in ./jlab_venv/lib/python3.10/site-packages (from pyserini) (0.2.0)\n",
      "Requirement already satisfied: openai>=1.0.0 in ./jlab_venv/lib/python3.10/site-packages (from pyserini) (1.59.7)\n",
      "Requirement already satisfied: scipy>=1.4.1 in ./jlab_venv/lib/python3.10/site-packages (from pyserini) (1.15.1)\n",
      "Requirement already satisfied: pillow>=10.2.0 in ./jlab_venv/lib/python3.10/site-packages (from pyserini) (11.1.0)\n",
      "Requirement already satisfied: numpy>=1.18.1 in ./jlab_venv/lib/python3.10/site-packages (from pyserini) (2.2.1)\n",
      "Requirement already satisfied: pyjnius>=1.6.0 in ./jlab_venv/lib/python3.10/site-packages (from pyserini) (1.6.1)\n",
      "Requirement already satisfied: torch>=2.4.0 in ./jlab_venv/lib/python3.10/site-packages (from pyserini) (2.5.1)\n",
      "Requirement already satisfied: flask>3.0 in ./jlab_venv/lib/python3.10/site-packages (from pyserini) (3.1.0)\n",
      "Requirement already satisfied: requests in ./jlab_venv/lib/python3.10/site-packages (from pyserini) (2.32.3)\n",
      "Requirement already satisfied: tqdm in ./jlab_venv/lib/python3.10/site-packages (from pyserini) (4.67.1)\n",
      "Requirement already satisfied: Cython>=0.29.21 in ./jlab_venv/lib/python3.10/site-packages (from pyserini) (3.0.11)\n",
      "Requirement already satisfied: pyyaml in ./jlab_venv/lib/python3.10/site-packages (from pyserini) (6.0.2)\n",
      "Requirement already satisfied: tiktoken>=0.4.0 in ./jlab_venv/lib/python3.10/site-packages (from pyserini) (0.8.0)\n",
      "Requirement already satisfied: scikit-learn>=0.22.1 in ./jlab_venv/lib/python3.10/site-packages (from pyserini) (1.6.1)\n",
      "Requirement already satisfied: pandas>=1.4.0 in ./jlab_venv/lib/python3.10/site-packages (from pyserini) (2.2.3)\n",
      "Requirement already satisfied: itsdangerous>=2.2 in ./jlab_venv/lib/python3.10/site-packages (from flask>3.0->pyserini) (2.2.0)\n",
      "Requirement already satisfied: Werkzeug>=3.1 in ./jlab_venv/lib/python3.10/site-packages (from flask>3.0->pyserini) (3.1.3)\n",
      "Requirement already satisfied: Jinja2>=3.1.2 in ./jlab_venv/lib/python3.10/site-packages (from flask>3.0->pyserini) (3.1.5)\n",
      "Requirement already satisfied: blinker>=1.9 in ./jlab_venv/lib/python3.10/site-packages (from flask>3.0->pyserini) (1.9.0)\n",
      "Requirement already satisfied: click>=8.1.3 in ./jlab_venv/lib/python3.10/site-packages (from flask>3.0->pyserini) (8.1.8)\n",
      "Requirement already satisfied: packaging in ./jlab_venv/lib/python3.10/site-packages (from onnxruntime>=1.8.1->pyserini) (24.2)\n",
      "Requirement already satisfied: flatbuffers in ./jlab_venv/lib/python3.10/site-packages (from onnxruntime>=1.8.1->pyserini) (24.12.23)\n",
      "Requirement already satisfied: coloredlogs in ./jlab_venv/lib/python3.10/site-packages (from onnxruntime>=1.8.1->pyserini) (15.0.1)\n",
      "Requirement already satisfied: protobuf in ./jlab_venv/lib/python3.10/site-packages (from onnxruntime>=1.8.1->pyserini) (5.29.3)\n",
      "Requirement already satisfied: sympy in ./jlab_venv/lib/python3.10/site-packages (from onnxruntime>=1.8.1->pyserini) (1.13.1)\n",
      "Requirement already satisfied: typing-extensions<5,>=4.11 in ./jlab_venv/lib/python3.10/site-packages (from openai>=1.0.0->pyserini) (4.12.2)\n",
      "Requirement already satisfied: httpx<1,>=0.23.0 in ./jlab_venv/lib/python3.10/site-packages (from openai>=1.0.0->pyserini) (0.28.1)\n",
      "Requirement already satisfied: distro<2,>=1.7.0 in ./jlab_venv/lib/python3.10/site-packages (from openai>=1.0.0->pyserini) (1.9.0)\n",
      "Requirement already satisfied: jiter<1,>=0.4.0 in ./jlab_venv/lib/python3.10/site-packages (from openai>=1.0.0->pyserini) (0.8.2)\n",
      "Requirement already satisfied: sniffio in ./jlab_venv/lib/python3.10/site-packages (from openai>=1.0.0->pyserini) (1.3.1)\n",
      "Requirement already satisfied: pydantic<3,>=1.9.0 in ./jlab_venv/lib/python3.10/site-packages (from openai>=1.0.0->pyserini) (2.10.5)\n",
      "Requirement already satisfied: anyio<5,>=3.5.0 in ./jlab_venv/lib/python3.10/site-packages (from openai>=1.0.0->pyserini) (4.8.0)\n",
      "Requirement already satisfied: pytz>=2020.1 in ./jlab_venv/lib/python3.10/site-packages (from pandas>=1.4.0->pyserini) (2024.2)\n",
      "Requirement already satisfied: tzdata>=2022.7 in ./jlab_venv/lib/python3.10/site-packages (from pandas>=1.4.0->pyserini) (2024.2)\n",
      "Requirement already satisfied: python-dateutil>=2.8.2 in ./jlab_venv/lib/python3.10/site-packages (from pandas>=1.4.0->pyserini) (2.9.0.post0)\n",
      "Requirement already satisfied: joblib>=1.2.0 in ./jlab_venv/lib/python3.10/site-packages (from scikit-learn>=0.22.1->pyserini) (1.4.2)\n",
      "Requirement already satisfied: threadpoolctl>=3.1.0 in ./jlab_venv/lib/python3.10/site-packages (from scikit-learn>=0.22.1->pyserini) (3.5.0)\n",
      "Requirement already satisfied: regex>=2022.1.18 in ./jlab_venv/lib/python3.10/site-packages (from tiktoken>=0.4.0->pyserini) (2024.11.6)\n",
      "Requirement already satisfied: charset-normalizer<4,>=2 in ./jlab_venv/lib/python3.10/site-packages (from requests->pyserini) (3.4.1)\n",
      "Requirement already satisfied: urllib3<3,>=1.21.1 in ./jlab_venv/lib/python3.10/site-packages (from requests->pyserini) (2.3.0)\n",
      "Requirement already satisfied: idna<4,>=2.5 in ./jlab_venv/lib/python3.10/site-packages (from requests->pyserini) (3.10)\n",
      "Requirement already satisfied: certifi>=2017.4.17 in ./jlab_venv/lib/python3.10/site-packages (from requests->pyserini) (2024.12.14)\n",
      "Requirement already satisfied: nvidia-cublas-cu12==12.4.5.8 in ./jlab_venv/lib/python3.10/site-packages (from torch>=2.4.0->pyserini) (12.4.5.8)\n",
      "Requirement already satisfied: nvidia-cusparse-cu12==12.3.1.170 in ./jlab_venv/lib/python3.10/site-packages (from torch>=2.4.0->pyserini) (12.3.1.170)\n",
      "Requirement already satisfied: nvidia-cuda-cupti-cu12==12.4.127 in ./jlab_venv/lib/python3.10/site-packages (from torch>=2.4.0->pyserini) (12.4.127)\n",
      "Requirement already satisfied: nvidia-cuda-runtime-cu12==12.4.127 in ./jlab_venv/lib/python3.10/site-packages (from torch>=2.4.0->pyserini) (12.4.127)\n",
      "Requirement already satisfied: networkx in ./jlab_venv/lib/python3.10/site-packages (from torch>=2.4.0->pyserini) (3.4.2)\n",
      "Requirement already satisfied: nvidia-nccl-cu12==2.21.5 in ./jlab_venv/lib/python3.10/site-packages (from torch>=2.4.0->pyserini) (2.21.5)\n",
      "Requirement already satisfied: nvidia-cudnn-cu12==9.1.0.70 in ./jlab_venv/lib/python3.10/site-packages (from torch>=2.4.0->pyserini) (9.1.0.70)\n",
      "Requirement already satisfied: fsspec in ./jlab_venv/lib/python3.10/site-packages (from torch>=2.4.0->pyserini) (2024.12.0)\n",
      "Requirement already satisfied: nvidia-cufft-cu12==11.2.1.3 in ./jlab_venv/lib/python3.10/site-packages (from torch>=2.4.0->pyserini) (11.2.1.3)\n",
      "Requirement already satisfied: nvidia-cuda-nvrtc-cu12==12.4.127 in ./jlab_venv/lib/python3.10/site-packages (from torch>=2.4.0->pyserini) (12.4.127)\n",
      "Requirement already satisfied: triton==3.1.0 in ./jlab_venv/lib/python3.10/site-packages (from torch>=2.4.0->pyserini) (3.1.0)\n",
      "Requirement already satisfied: nvidia-nvtx-cu12==12.4.127 in ./jlab_venv/lib/python3.10/site-packages (from torch>=2.4.0->pyserini) (12.4.127)\n",
      "Requirement already satisfied: nvidia-cusolver-cu12==11.6.1.9 in ./jlab_venv/lib/python3.10/site-packages (from torch>=2.4.0->pyserini) (11.6.1.9)\n",
      "Requirement already satisfied: filelock in ./jlab_venv/lib/python3.10/site-packages (from torch>=2.4.0->pyserini) (3.16.1)\n",
      "Requirement already satisfied: nvidia-curand-cu12==10.3.5.147 in ./jlab_venv/lib/python3.10/site-packages (from torch>=2.4.0->pyserini) (10.3.5.147)\n",
      "Requirement already satisfied: nvidia-nvjitlink-cu12==12.4.127 in ./jlab_venv/lib/python3.10/site-packages (from torch>=2.4.0->pyserini) (12.4.127)\n",
      "Requirement already satisfied: mpmath<1.4,>=1.1.0 in ./jlab_venv/lib/python3.10/site-packages (from sympy->onnxruntime>=1.8.1->pyserini) (1.3.0)\n",
      "Requirement already satisfied: tokenizers<0.22,>=0.21 in ./jlab_venv/lib/python3.10/site-packages (from transformers>=4.6.0->pyserini) (0.21.0)\n",
      "Requirement already satisfied: huggingface-hub<1.0,>=0.24.0 in ./jlab_venv/lib/python3.10/site-packages (from transformers>=4.6.0->pyserini) (0.27.1)\n",
      "Requirement already satisfied: safetensors>=0.4.1 in ./jlab_venv/lib/python3.10/site-packages (from transformers>=4.6.0->pyserini) (0.5.2)\n",
      "Requirement already satisfied: exceptiongroup>=1.0.2 in ./jlab_venv/lib/python3.10/site-packages (from anyio<5,>=3.5.0->openai>=1.0.0->pyserini) (1.2.2)\n",
      "Requirement already satisfied: httpcore==1.* in ./jlab_venv/lib/python3.10/site-packages (from httpx<1,>=0.23.0->openai>=1.0.0->pyserini) (1.0.7)\n",
      "Requirement already satisfied: h11<0.15,>=0.13 in ./jlab_venv/lib/python3.10/site-packages (from httpcore==1.*->httpx<1,>=0.23.0->openai>=1.0.0->pyserini) (0.14.0)\n",
      "Requirement already satisfied: MarkupSafe>=2.0 in ./jlab_venv/lib/python3.10/site-packages (from Jinja2>=3.1.2->flask>3.0->pyserini) (3.0.2)\n",
      "Requirement already satisfied: pydantic-core==2.27.2 in ./jlab_venv/lib/python3.10/site-packages (from pydantic<3,>=1.9.0->openai>=1.0.0->pyserini) (2.27.2)\n",
      "Requirement already satisfied: annotated-types>=0.6.0 in ./jlab_venv/lib/python3.10/site-packages (from pydantic<3,>=1.9.0->openai>=1.0.0->pyserini) (0.7.0)\n",
      "Requirement already satisfied: six>=1.5 in ./jlab_venv/lib/python3.10/site-packages (from python-dateutil>=2.8.2->pandas>=1.4.0->pyserini) (1.17.0)\n",
      "Requirement already satisfied: humanfriendly>=9.1 in ./jlab_venv/lib/python3.10/site-packages (from coloredlogs->onnxruntime>=1.8.1->pyserini) (10.0)\n"
     ]
    }
   ],
   "source": [
    "!pip install pyserini"
   ]
  },
  {
   "cell_type": "code",
   "execution_count": null,
   "metadata": {},
   "outputs": [],
   "source": [
    "from pyserini.index.lucene import LuceneIndexReader\n",
    "# test install works "
   ]
  },
  {
   "cell_type": "code",
   "execution_count": 1,
   "metadata": {},
   "outputs": [
    {
     "name": "stderr",
     "output_type": "stream",
     "text": [
      "WARNING: Using incubator modules: jdk.incubator.vector\n",
      "/home/lenny/ERSP-QCSDF/testModels/jlab_venv/lib/python3.10/site-packages/tqdm/auto.py:21: TqdmWarning: IProgress not found. Please update jupyter and ipywidgets. See https://ipywidgets.readthedocs.io/en/stable/user_install.html\n",
      "  from .autonotebook import tqdm as notebook_tqdm\n",
      "Jan 19, 2025 6:11:01 PM org.apache.lucene.store.MemorySegmentIndexInputProvider <init>\n",
      "INFO: Using MemorySegmentIndexInput with Java 21; to disable start with -Dorg.apache.lucene.store.MMapDirectory.enableMemorySegments=false\n"
     ]
    },
    {
     "name": "stdout",
     "output_type": "stream",
     "text": [
      "1: 3237824 - 5.167300224304199\n",
      "Passage text for docID 3237824: {\n",
      "  \"id\" : \"3237824\",\n",
      "  \"contents\" : \"The Apple corporate office is located in Cupertino, CA. Tagged as: apple corporate, apple corporate headquarters, apple corporate office, apple corporate office address, apple corporate office email, apple corporate office email address, apple corporate office phone number, apple headquarters.he Apple corporate office is located in Cupertino, CA. Tagged as: apple corporate, apple corporate headquarters, apple corporate office, apple corporate office address, apple corporate office email, apple corporate office email address, apple corporate office phone number, apple headquarters.\"\n",
      "}\n",
      "\n",
      "\n",
      "2: 7691787 - 5.128600120544434\n",
      "Passage text for docID 7691787: {\n",
      "  \"id\" : \"7691787\",\n",
      "  \"contents\" : \"Related: apple cider, apple vinegar, vinegar, apple, cider vinegar, honey, baking soda. apple cider vinegar in glass... apple cider vinegar in glass... apple cider in glass bottle... apple cider vinegar and fresh... fresh apples and a bowl of raw... decanter with apple vinegar and ...pple cider vinegar isolated on ... vector flat apple cider vinegar ... apple and leaves glas bottle... apple cider vinegar in glass... apple cider vinegar and fresh... a glass of raw unfiltered... apple cider vinegar healthy... apple cider vinegar in glass... composition of apple cider with ...\"\n",
      "}\n",
      "\n",
      "\n",
      "3: 182593 - 5.05019998550415\n",
      "Passage text for docID 182593: {\n",
      "  \"id\" : \"182593\",\n",
      "  \"contents\" : \"Example: Apples Sold. Here is a pictograph of how many apples were sold at the local shop over 4 months: Note that each picture of an apple means 10 apples (and the half-apple picture means 5 apples).So the pictograph is showing: 1  In January 10 apples were sold.ere is a pictograph of how many apples were sold at the local shop over 4 months: Note that each picture of an apple means 10 apples (and the half-apple picture means 5 apples). So the pictograph is showing: 1  In January 10 apples were sold.\"\n",
      "}\n",
      "\n",
      "\n",
      "4: 3288873 - 5.044000148773193\n",
      "Passage text for docID 3288873: {\n",
      "  \"id\" : \"3288873\",\n",
      "  \"contents\" : \"Apples are eaten with honey at the Jewish New Year of Rosh Hashanah to symbolize a sweet new year. Apples are an important ingredient in many desserts, such as apple pie, apple crumble, apple crisp and apple cake. When cooked, some apple cultivars easily form a puree known as apple sauce. Apples are also made into apple butter and\"\n",
      "}\n",
      "\n",
      "\n",
      "5: 2955840 - 5.019899845123291\n",
      "Passage text for docID 2955840: {\n",
      "  \"id\" : \"2955840\",\n",
      "  \"contents\" : \"An Apple ID is your user name for everything you do with Apple: Shop the iTunes Store, enable iCloud on all your devices, buy from the Apple Online Store, make a reservation at an Apple Retail Store, access the Apple Support website, and more.1  Home. 2  Apple ID. 3  Copyright Â© 2015 Apple Inc.n Apple ID is your user name for everything you do with Apple: Shop the iTunes Store, enable iCloud on all your devices, buy from the Apple Online Store, make a reservation at an Apple Retail Store, access the Apple Support website, and more. 1  Home. 2  Apple ID. 3  Copyright Â© 2015 Apple Inc.\"\n",
      "}\n",
      "\n",
      "\n",
      "6: 1201530 - 5.006199836730957\n",
      "Passage text for docID 1201530: {\n",
      "  \"id\" : \"1201530\",\n",
      "  \"contents\" : \"Apple Apple At Home Advisor Salaries. The typical Apple Apple At Home Advisor salary is $15. Apple At Home Advisor salaries at Apple can range from $10 - $20. This estimate is based upon 234 Apple Apple At Home Advisor salary reports provided by employees. When factoring in bonuses and additional compensation, a Apple At Home Advisor at Apple can expect to make an average total pay of $30,379 . See all Apple At Home Advisor salaries to learn how this stacks up in the market.\"\n",
      "}\n",
      "\n",
      "\n",
      "7: 1555775 - 5.006198883056641\n",
      "Passage text for docID 1555775: {\n",
      "  \"id\" : \"1555775\",\n",
      "  \"contents\" : \"Apples can be cooked down into sauce, apple butter or fruit preserves, baked in an oven and served with custard, and made into pies or apple crumble. In the UK apples are commonly boiled and mashed and served as apple sauce with roast pork.Bramley apple is by far the most popular cooking apple in the UK.pples can be cooked down into sauce, apple butter or fruit preserves, baked in an oven and served with custard, and made into pies or apple crumble. In the UK apples are commonly boiled and mashed and served as apple sauce with roast pork.\"\n",
      "}\n",
      "\n",
      "\n",
      "8: 1517635 - 4.99970006942749\n",
      "Passage text for docID 1517635: {\n",
      "  \"id\" : \"1517635\",\n",
      "  \"contents\" : \"Hi todd, If you simply changed that old ID to the new Apple ID you are using by going to Manage your Apple ID and editing it to the new email address, then follow these instructions to remove the old iCloud account from your device: 1. Go to Manage Your Apple ID and sign on with your current Apple ID and password.Edit the current Apple ID email address back to the old one (the one showing on iCloud). This is temporary. Do NOT verify it, do NOT change your password: Apple-My Apple ID.current Apple ID password, the follow the prompts to delete the account. 3. Go back to Manage your Apple ID, sign on with the old Apple ID and the current password, and Edit the Apple ID back to your current Apple ID email address.You may need to verify it again.urrent Apple ID password, the follow the prompts to delete the account. 3. Go back to Manage your Apple ID, sign on with the old Apple ID and the current password, and Edit the Apple ID back to your current Apple ID email address.\"\n",
      "}\n",
      "\n",
      "\n",
      "9: 7198665 - 4.996399879455566\n",
      "Passage text for docID 7198665: {\n",
      "  \"id\" : \"7198665\",\n",
      "  \"contents\" : \"First the Granny Smith apple. Then the Red Delicious and Fuji apples. All three apples floated. There was no difference between the 3 varieties. But why did they float? Apples have a lot of small air pockets inside that cause them to float in water. But what about the individual apple parts? Do all the apple parts float? We decided to find out by cutting an apple open and testing each part in a cup of water. What we noticed was the apple pieces and the peel still floated in water. But, the stem and the seeds did not float. This was a great investigation on floating and sinking using apples! And while you have a bunch of apple parts lying around, try exploring your 5 senses using apples. Or let the little ones âbobâ for apples! For more Apple Science Activities, try: Apple Bubble Science.\"\n",
      "}\n",
      "\n",
      "\n",
      "10: 8662032 - 4.988999843597412\n",
      "Passage text for docID 8662032: {\n",
      "  \"id\" : \"8662032\",\n",
      "  \"contents\" : \"Relationships. 1  dnssdx.dll (Bonjour by Apple Inc.) 2  explorerplugin.dll (Bonjour by Apple Inc.) 3  mdnsnsp.dll (Bonjour by Apple) 4  dnssd-hobbyist.dll (Bonjour by Apple) 5  jdns_sd.dll (Bonjour by Apple Inc.) 6  dnssd.dll (Bonjour by Apple Inc.) 7  mDNSResponder.exe (Bonjour by Apple Inc.) 8  ipodvoiceover.dll (Apple iPod Speech Library by Apple Inc.)\"\n",
      "}\n",
      "\n",
      "\n"
     ]
    }
   ],
   "source": [
    "import pyserini\n",
    "import json\n",
    "\n",
    "from pyserini.search.lucene import LuceneSearcher\n",
    "\n",
    "# This will automatically download and use the pre-built index\n",
    "searcher = LuceneSearcher.from_prebuilt_index('msmarco-passage')\n",
    "\n",
    "# Perform a search with a query string\n",
    "query = 'Apple'\n",
    "hits = searcher.search(query)\n",
    "\n",
    "# Display the top results\n",
    "for i in range(10):  # show top 10 results\n",
    "    print(f'{i+1}: {hits[i].docid} - {hits[i].score}')\n",
    "\n",
    "    # print document contents\n",
    "    document = searcher.doc(hits[i].docid)\n",
    "    passage_text = document.raw()\n",
    "    print(f\"Passage text for docID {hits[i].docid}: {passage_text}\")\n",
    "    print(f\"\\n\")"
   ]
  },
  {
   "cell_type": "code",
   "execution_count": null,
   "metadata": {},
   "outputs": [],
   "source": []
  }
 ],
 "metadata": {
  "kernelspec": {
   "display_name": "jlab_venv",
   "language": "python",
   "name": "jlab_venv"
  },
  "language_info": {
   "codemirror_mode": {
    "name": "ipython",
    "version": 3
   },
   "file_extension": ".py",
   "mimetype": "text/x-python",
   "name": "python",
   "nbconvert_exporter": "python",
   "pygments_lexer": "ipython3",
   "version": "3.10.12"
  }
 },
 "nbformat": 4,
 "nbformat_minor": 4
}
