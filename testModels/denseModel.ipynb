{
 "cells": [
  {
   "cell_type": "code",
   "execution_count": null,
   "id": "1e1fa69a-1791-42b7-8d38-e380727cce1e",
   "metadata": {},
   "outputs": [],
   "source": [
    "# potential code/framework to reproduce simlm-base-msmarco-finetuned\n",
    "\n",
    "# Steps for getting a search model running:\n",
    "# - create embeddings for each passage \n",
    "# - make model specific index\n",
    "\n",
    "# Thoughts / Questions\n",
    "# - how would the logistics of our own model work if each model needs its own kind of index\n",
    "#    - Lots of overhead... \n",
    "# - Look into location based search?\n",
    "#\n",
    "# - add specific tokens into the passage embeddings"
   ]
  },
  {
   "cell_type": "code",
   "execution_count": null,
   "id": "4436717b-b5e9-418b-a594-e27218c20c34",
   "metadata": {},
   "outputs": [],
   "source": [
    "!pip install pyserini transformers torch tqdm"
   ]
  },
  {
   "cell_type": "code",
   "execution_count": null,
   "id": "3d1ffc71-e7be-44e9-81af-8575e1bf9d82",
   "metadata": {},
   "outputs": [],
   "source": [
    "from transformers import AutoTokenizer, AutoModel\n",
    "import torch\n",
    "import json\n",
    "from tqdm import tqdm\n",
    "import numpy as np\n",
    "\n",
    "# Load the tokenizer and model\n",
    "model_name = \"intfloat/simlm-base-msmarco-finetuned\"\n",
    "tokenizer = AutoTokenizer.from_pretrained(model_name)\n",
    "model = AutoModel.from_pretrained(model_name)\n",
    "model.eval()\n",
    "\n",
    "# Function to encode passages into dense embeddings\n",
    "def encode_passage(passage):\n",
    "    inputs = tokenizer(passage, return_tensors=\"pt\", max_length=256, truncation=True, padding=\"max_length\")\n",
    "    with torch.no_grad():\n",
    "        outputs = model(**inputs)\n",
    "        # Use [CLS] token output as the embedding\n",
    "        embedding = outputs.last_hidden_state[:, 0, :].squeeze().numpy()\n",
    "    return embedding\n",
    "\n",
    "# *** CHECK PATH *** : Path to the MS MARCO passage collection \n",
    "passage_file = \"msmarco-passage-collection.tsv\"  \n",
    "\n",
    "# Encode passages\n",
    "embeddings = []\n",
    "doc_ids = []\n",
    "with open(passage_file, \"r\") as f:\n",
    "    for line in tqdm(f):\n",
    "        doc_id, passage = line.strip().split(\"\\t\")\n",
    "        embedding = encode_passage(passage)\n",
    "        embeddings.append(embedding)\n",
    "        doc_ids.append(doc_id)\n",
    "\n",
    "# Save embeddings and doc_ids as numpy files\n",
    "np.save(\"embeddings.npy\", np.array(embeddings))\n",
    "np.save(\"doc_ids.npy\", np.array(doc_ids))\n"
   ]
  },
  {
   "cell_type": "code",
   "execution_count": null,
   "id": "5dd33494-4514-4b12-8d19-9bd74758a0c6",
   "metadata": {},
   "outputs": [],
   "source": [
    "# Import Pyserini\n",
    "from pyserini.index import DenseIndexer\n",
    "from pyserini.index import IndexReader\n",
    "\n",
    "# Initialize the DenseIndexer\n",
    "index_path = \"msmarco_dense_index\"  # Path to save the index\n",
    "indexer = DenseIndexer(output_dir=index_path)\n",
    "\n",
    "# Add encoded passages to the index\n",
    "embeddings_file = \"msmarco_dense_embeddings.json\"  # The output file from Step 1\n",
    "with open(embeddings_file, \"r\") as f:\n",
    "    for line in tqdm(f, desc=\"Indexing embeddings\"):\n",
    "        entry = json.loads(line)\n",
    "        doc_id = entry[\"doc_id\"]\n",
    "        embedding = entry[\"embedding\"]\n",
    "        indexer.add(doc_id, embedding)\n",
    "\n",
    "# Finalize the index\n",
    "indexer.save_index()\n",
    "\n",
    "print(\"Dense index created and saved to\", index_path)"
   ]
  },
  {
   "cell_type": "code",
   "execution_count": null,
   "id": "902057a2-0d76-4196-a9fd-12671399c5c3",
   "metadata": {},
   "outputs": [],
   "source": [
    "# Retrieval"
   ]
  },
  {
   "cell_type": "code",
   "execution_count": null,
   "id": "75751e12-4f66-4c06-a520-69cd714df87b",
   "metadata": {},
   "outputs": [],
   "source": [
    "from pyserini.search import SimpleDenseSearcher\n",
    "\n",
    "# Load the custom dense index\n",
    "searcher = SimpleDenseSearcher(index_path, None)\n",
    "\n",
    "# Encode a query\n",
    "query = \"What is machine learning?\"\n",
    "query_vector = encode_passage(query)  # Reuse the encode_passage function\n",
    "\n",
    "# Perform the search\n",
    "hits = searcher.search(query_vector, k=10)\n",
    "\n",
    "# Display results\n",
    "print(f\"Top 10 Results for Query: '{query}'\")\n",
    "for i, hit in enumerate(hits):\n",
    "    print(f\"{i + 1}: {hit.docid} (score: {hit.score})\")"
   ]
  }
 ],
 "metadata": {
  "kernelspec": {
   "display_name": "Python 3 (ipykernel)",
   "language": "python",
   "name": "python3"
  },
  "language_info": {
   "codemirror_mode": {
    "name": "ipython",
    "version": 3
   },
   "file_extension": ".py",
   "mimetype": "text/x-python",
   "name": "python",
   "nbconvert_exporter": "python",
   "pygments_lexer": "ipython3",
   "version": "3.10.12"
  }
 },
 "nbformat": 4,
 "nbformat_minor": 5
}
